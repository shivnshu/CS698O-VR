{
 "cells": [
  {
   "cell_type": "markdown",
   "metadata": {},
   "source": [
    "# Assignment 2: The Winter is here\n",
    "##### This works best with epic battle music. No spoilers present.\n",
    "<br/>\n",
    "&nbsp;&nbsp;&nbsp;&nbsp;&nbsp;&nbsp;Tywin Lannister was right when he said: \"The great war is between death and life, ice and fire. If we loose, the night will never end\"<br/>\n",
    "&nbsp;&nbsp;&nbsp;&nbsp;&nbsp;&nbsp;It has been six months since the white walkers' army marched into the north, led by the night king himself on a dead dragon. It has been a battle like never before: never before have men faced such an enemy in battle, never before have men fought so bravely against a united threat, and never before have they been so gravely defeated.<br />\n",
    "&nbsp;&nbsp;&nbsp;&nbsp;&nbsp;&nbsp; While Cersei is in King's landing, brave men have died fighting the great war. Among others, Tyrion is dead, Arya is dead and Jon Snow is dead, again. In a desperate battle, Daenerys leads all her forces in a final stand-off with the dead just south of Winterfell. <br />\n",
    "&nbsp;&nbsp;&nbsp;&nbsp;&nbsp;&nbsp; Her army defeated, she is now on the run on her dragon in an air battle, being chased by two of her own dragons, the Night king and a dead Jon Snow. Suddenly, the Night king's spear hits Danny's dragon, who, raining blood and fire, falls into ice, taking the lost queen, with him. <br />\n",
    "&nbsp;&nbsp;&nbsp;&nbsp;&nbsp;&nbsp; Daenerys opens her eyes in a strange place, a place which does not follow the rules of space and time, where the dead souls killed by the dead men are trapped, forever. But who woke her up? There stands near her, Tyrion, with Jorah, Davos, Jon Snow, and everybody else. They all indulge in a heartfelt reunion when someone yells- \"But how do we get out?<br />\n",
    "&nbsp;&nbsp;&nbsp;&nbsp;&nbsp;&nbsp; Varys sees a talking crystal close by, who asks them of completing a task, which on completion would allow them to go back to the land of the living, with the ultimate tool to defeat the white-walkers and kills the night king, the Dragon-axe. They have summoned you for help, as the task is out of their expertise, to apply a modified CNN to solve the object detection problem on the PASCAL VOC dataset. Varys, the master of whisperers, has used his talents to import the following for you:"
   ]
  },
  {
   "cell_type": "code",
   "execution_count": null,
   "metadata": {
    "collapsed": true
   },
   "outputs": [],
   "source": [
    "from __future__ import division, print_function, unicode_literals\n",
    "import numpy as np\n",
    "import torch\n",
    "import torch.utils.data\n",
    "import torchvision.transforms as transforms\n",
    "import torchvision.models as models\n",
    "import torch.optim as optim\n",
    "import torch.nn as nn\n",
    "from torch.autograd import Variable\n",
    "import matplotlib.pyplot as plt\n",
    "import xml.etree.ElementTree as ET\n",
    "import os\n",
    "import random\n",
    "from collections import namedtuple\n",
    "from PIL import Image\n",
    "\n",
    "\n",
    "%matplotlib inline\n",
    "plt.ion()\n",
    "# You can ask Varys to get you more if you desire"
   ]
  },
  {
   "cell_type": "code",
   "execution_count": null,
   "metadata": {
    "collapsed": true
   },
   "outputs": [],
   "source": [
    "# Cersei chose violence, you choose your hyper-parameters wisely using validation data!\n",
    "resnet_input = 224 \n",
    "batch_size = 2\n",
    "num_epochs = 5\n",
    "learning_rate =  0.001\n",
    "hyp_momentum = 0.9"
   ]
  },
  {
   "cell_type": "markdown",
   "metadata": {
    "collapsed": true
   },
   "source": [
    "## Build the data\n",
    "The hound who was in charge for getting the data, brought you the following links:\n",
    "<br/>Training and validation:\n",
    "<br/>http://host.robots.ox.ac.uk/pascal/VOC/voc2007/VOCtrainval_06-Nov-2007.tar\n",
    "<br/>Testing data:\n",
    "<br/>http://host.robots.ox.ac.uk/pascal/VOC/voc2007/VOCtest_06-Nov-2007.tar\n",
    "<br/>He also told you that the dataset(datascrolls :P) consists of images from of 20 classes, with detection annotations included. The JPEGImages folder houses the images, and the Annotations folder has the object-wise labels for the objects in one xml file per image. You have to extract the object information, ie. the [xmin, ymin] (the top left x,y co-ordinates) and the [xmax, ymax] (the bottom right x,y co-ordinates) of only the objects belonging to the given 20 classes(aeroplane, bicycle, boat, bottle, bus, car, cat, chair, cow, dining table, dog, horse, motorbike, person, potted plant, sheep, train, TV). For parsing the xml file, you can ask Varys to import xml.etree.ElementTree for you. <br/>\n",
    "<br/> You can then ask Bronn and Jamie to organize the data as follows:\n",
    "<br/> For every image in the dataset, extract/crop the object patch from the image one by one using their respective co-ordinates:[xmin, ymin, xmax, ymax], resize the image to resnet_input, and store it with its class label information. Do the same for training/validation and test datasets. <br/>\n",
    "##### Important\n",
    "You also have to collect data for an extra background class which stands for the class of an object which is not a part of any of the 20 classes. For this, you can crop and resize any random patches from an image. A good idea is to extract patches that have low \"intersection over union\" with any object present in the image frame from the 20 Pascal VOC classes. The number of background images should be roughly around those of other class objects' images. Hence the total classes turn out to be 21. This is important for applying the sliding window method later."
   ]
  },
  {
   "cell_type": "code",
   "execution_count": null,
   "metadata": {
    "collapsed": true
   },
   "outputs": [],
   "source": [
    "classes = ('__background__',\n",
    "           'aeroplane', 'bicycle', 'bird', 'boat',\n",
    "           'bottle', 'bus', 'car', 'cat', 'chair',\n",
    "           'cow', 'diningtable', 'dog', 'horse',\n",
    "           'motorbike', 'person', 'pottedplant',\n",
    "           'sheep', 'sofa', 'train', 'tvmonitor')\n",
    "counts = [0]*21"
   ]
  },
  {
   "cell_type": "code",
   "execution_count": null,
   "metadata": {},
   "outputs": [],
   "source": [
    "Rectangle = namedtuple('Rectangle', 'xmin ymin xmax ymax')\n",
    "\n",
    "def area(a, b):  # returns None if rectangles don't intersect\n",
    "    dx = min(a.xmax, b.xmax) - max(a.xmin, b.xmin)\n",
    "    dy = min(a.ymax, b.ymax) - max(a.ymin, b.ymin)\n",
    "    if (dx>=0) and (dy>=0):\n",
    "        return dx*dy\n"
   ]
  },
  {
   "cell_type": "raw",
   "metadata": {
    "collapsed": true
   },
   "source": [
    "def create_hierarchical_dirs():\n",
    "    if not os.path.exists('data/train'):\n",
    "        os.makedirs('data/train')      \n",
    "        \n",
    "    for i in range(len(classes)):\n",
    "        dirname = 'data/train/' + classes[i]\n",
    "        if not os.path.exists(dirname):\n",
    "            os.makedirs(dirname)\n",
    "\n",
    "create_hierarchical_dirs()\n",
    "\n",
    "def jamie_bronn_build_dataset():\n",
    "    \n",
    "    dir_names = os.listdir('data/VOCtrainval_06-Nov-2007/VOCdevkit/VOC2007/Annotations')    \n",
    "    for img_name in dir_names:\n",
    "        tree = ET.parse('data/VOCtrainval_06-Nov-2007/VOCdevkit/VOC2007/Annotations/' + img_name)\n",
    "        root = tree.getroot()\n",
    "        for object1 in root.iter('object'):\n",
    "            for name1 in object1.iter('name'):\n",
    "                dirname = name1.text\n",
    "            for bndbox in object1.iter('bndbox'):\n",
    "                for xmin in object1.iter('xmin'):\n",
    "                    x1 = int(float(xmin.text))\n",
    "                for xmax in object1.iter('xmax'):\n",
    "                    x2 = int(float(xmax.text))\n",
    "                for ymin in object1.iter('ymin'):\n",
    "                    y1 = int(float(ymin.text))\n",
    "                for ymax in object1.iter('ymax'):\n",
    "                    y2 = int(float(ymax.text))\n",
    "\n",
    "                img = Image.open('data/VOCtrainval_06-Nov-2007/VOCdevkit/VOC2007/JPEGImages/' + img_name[0:-4] + '.jpg')\n",
    "                img = img.crop((x1,y1,x2,y2)).resize((resnet_input,resnet_input))\n",
    "                if dirname in classes:\n",
    "                    img.save('data/train/' + dirname + '/' + str(counts[classes.index(dirname)]) + \".jpg\");\n",
    "                    counts[classes.index(dirname)]+=1\n",
    "                    \n",
    "    \n",
    "        \n",
    "jamie_bronn_build_dataset()\n",
    "\n",
    "def build_background_class():\n",
    "    dir_names = os.listdir('data/VOCtrainval_06-Nov-2007/VOCdevkit/VOC2007/Annotations')\n",
    "    average = int(sum(counts[1:])/len(counts[1:]))\n",
    "    average = 761\n",
    "    counts[0] = 0\n",
    "    while(counts[0]!=average):        \n",
    "        print(counts[0])\n",
    "        select = 1\n",
    "        img_name = random.choice(dir_names)\n",
    "        tree = ET.parse('data/VOCtrainval_06-Nov-2007/VOCdevkit/VOC2007/Annotations/' + img_name)\n",
    "        root = tree.getroot()\n",
    "        img = Image.open('data/VOCtrainval_06-Nov-2007/VOCdevkit/VOC2007/JPEGImages/' + img_name[0:-4] + '.jpg')\n",
    "        imsize = img.size;\n",
    "        x1 = random.randrange(imsize[0])\n",
    "        x2 = random.randrange(imsize[0])\n",
    "        y1 = random.randrange(imsize[1])\n",
    "        y2 = random.randrange(imsize[1])\n",
    "        if(x1>x2):\n",
    "            temp = x1\n",
    "            x1=x2\n",
    "            x2=temp\n",
    "        if(y1>y2):\n",
    "            temp = y1\n",
    "            y1=y2\n",
    "            y2=temp\n",
    "        print(x1,y1,x2,y2)\n",
    "        if(x1==x2 or y1==y2):\n",
    "            continue\n",
    "        for object1 in root.iter('object'):\n",
    "            for name1 in object1.iter('name'):\n",
    "                dirname = name1.text\n",
    "            for bndbox in object1.iter('bndbox'):\n",
    "                intersection = 0\n",
    "                for xmin in object1.iter('xmin'):\n",
    "                    xa = int(float(xmin.text))\n",
    "                for xmax in object1.iter('xmax'):\n",
    "                    xb = int(float(xmax.text))\n",
    "                for ymin in object1.iter('ymin'):\n",
    "                    ya = int(float(ymin.text))\n",
    "                for ymax in object1.iter('ymax'):\n",
    "                    yb = int(float(ymax.text))\n",
    "                ra = Rectangle(x1, x2, y1, y2)\n",
    "                rb = Rectangle(xa, xb, ya, yb)\n",
    "                if(area(ra,rb)!=None):\n",
    "                    intersection = area(ra,rb)\n",
    "                union = ((x2-x1)*(y2-y1))+((xb-xa)*(yb-ya))-intersection\n",
    "                if(float(intersection)/union>0.5):\n",
    "                    select = 0\n",
    "\n",
    "        if(select==1):\n",
    "            img = img.crop((x1,y1,x2,y2)).resize((resnet_input,resnet_input))\n",
    "            img.save('data/train/__background__/' + str(counts[0]) + \".jpg\");\n",
    "            counts[0] += 1\n",
    "    \n",
    "build_background_class()"
   ]
  },
  {
   "cell_type": "code",
   "execution_count": null,
   "metadata": {
    "collapsed": true
   },
   "outputs": [],
   "source": [
    "bb_list = []\n",
    "class hound_dataset(torch.utils.data.Dataset): # Extend PyTorch's Dataset class\n",
    "    def __init__(self, root_dir, train, transform=None):\n",
    "        # Begin\n",
    "        \n",
    "        \n",
    "        if (train==True):            \n",
    "            dir1 = '/train/'\n",
    "            dir_names = os.listdir(root_dir + dir1)\n",
    "            img_names=[]\n",
    "            labels = []\n",
    "            count = 0\n",
    "            for c in dir_names:\n",
    "                names = os.listdir(root_dir + dir1 + c)\n",
    "                N = len(names)\n",
    "                for n in range(N):\n",
    "                    img_names.append(str(root_dir + dir1 + c + '/' + names[n]))\n",
    "                    labels += [count]\n",
    "                count+=1           \n",
    "            self.labels = labels \n",
    "         \n",
    "        \n",
    "        \n",
    "        else:\n",
    "            \n",
    "            img_names=[]\n",
    "            dir1 = '/VOCtest_06-Nov-2007/VOCdevkit/VOC2007/JPEGImages'\n",
    "            dir_names = os.listdir(root_dir + dir1)\n",
    "            for name in dir_names:\n",
    "                bb_sub_list = []\n",
    "                img_names.append(str(root_dir + dir1 + '/' + name))\n",
    "                tree = ET.parse('data/VOCtest_06-Nov-2007/VOCdevkit/VOC2007/Annotations/' + name[:-4] + '.xml')\n",
    "                root = tree.getroot()\n",
    "                for object1 in root.iter('object'):\n",
    "                    for name1 in object1.iter('name'):\n",
    "                        class1 = name1.text                        \n",
    "                    for bndbox in object1.iter('bndbox'):\n",
    "                        for xmin in object1.iter('xmin'):\n",
    "                            x1 = int(float(xmin.text))\n",
    "                        for xmax in object1.iter('xmax'):\n",
    "                            x2 = int(float(xmax.text))\n",
    "                        for ymin in object1.iter('ymin'):\n",
    "                            y1 = int(float(ymin.text))\n",
    "                        for ymax in object1.iter('ymax'):\n",
    "                            y2 = int(float(ymax.text))\n",
    "                        if(classes.__contains__(class1)):\n",
    "                            bb_sub_list.append([x1,y1,x2,y2,classes.index(class1)])        \n",
    "                bb_list.append(bb_sub_list)\n",
    "                #print(bb_sub_list)\n",
    "            self.bb_list = bb_list \n",
    "        \n",
    "        self.img_names = img_names\n",
    "        self.train = train\n",
    "        self.root_dir = root_dir\n",
    "        self.transform = transform\n",
    "        \n",
    "    def __len__(self):\n",
    "        # Begin\n",
    "        \n",
    "        return len(self.img_names)        \n",
    "        \n",
    "    def __getitem__(self, idx):\n",
    "        # Begin      \n",
    "        \n",
    "        \n",
    "        if(self.train==True):\n",
    "            img_pil = Image.open(self.img_names[idx])\n",
    "            return self.transform(img_pil), self.labels[idx]\n",
    "        else:\n",
    "            return self.img_names[idx] , self.bb_list[idx]       \n",
    "        "
   ]
  },
  {
   "cell_type": "markdown",
   "metadata": {},
   "source": [
    "## Train the network\n",
    "<br/>You can ask Arya to train the network on the created dataset. This will yield a classification network on the 21 classes of the VOC dataset. "
   ]
  },
  {
   "cell_type": "code",
   "execution_count": null,
   "metadata": {
    "collapsed": true
   },
   "outputs": [],
   "source": [
    "composed_transform = transforms.Compose([transforms.Scale((resnet_input,resnet_input)),\n",
    "                                         transforms.ToTensor()])\n",
    "#                                          transforms.RandomHorizontalFlip()])\n",
    "train_dataset = hound_dataset(root_dir='./data', train=True, transform=composed_transform) # Supply proper root_dir\n",
    "test_dataset = hound_dataset(root_dir='./data', train=False, transform=composed_transform) # Supply proper root_dir\n",
    "\n",
    "train_loader = torch.utils.data.DataLoader(dataset=train_dataset, batch_size=batch_size, shuffle=True)\n",
    "test_loader = torch.utils.data.DataLoader(dataset=test_dataset, batch_size=batch_size, shuffle=False)"
   ]
  },
  {
   "cell_type": "markdown",
   "metadata": {},
   "source": [
    "### Fine-tuning\n",
    "Litlefinger has brought you a pre-trained network. Fine-tune the network in the following section:"
   ]
  },
  {
   "cell_type": "code",
   "execution_count": null,
   "metadata": {
    "scrolled": true
   },
   "outputs": [],
   "source": [
    "resnet18 = models.resnet18(pretrained=True)\n",
    "\n",
    "for param in resnet18.parameters():\n",
    "    param.requires_grad = False\n",
    "\n",
    "resnet18.fc = nn.Linear(resnet18.fc.in_features, 21)\n",
    "resnet18.cuda()\n",
    "\n",
    "# Add code for using CUDA here"
   ]
  },
  {
   "cell_type": "code",
   "execution_count": null,
   "metadata": {
    "collapsed": true
   },
   "outputs": [],
   "source": [
    "criterion = nn.CrossEntropyLoss()\n",
    "# Update if any errors occur\n",
    "optimizer = optim.SGD(resnet18.fc.parameters(), learning_rate, hyp_momentum)"
   ]
  },
  {
   "cell_type": "code",
   "execution_count": null,
   "metadata": {
    "collapsed": true
   },
   "outputs": [],
   "source": [
    "def arya_train():\n",
    "    # Begin\n",
    "    for epoch in range(num_epochs): \n",
    "        resnet18.train()        \n",
    "        for i, (input1,target) in enumerate(train_loader):\n",
    "            \n",
    "            input_var = torch.autograd.Variable(input1).cuda()            \n",
    "            target = target.cuda(async = True)\n",
    "            target_var = torch.autograd.Variable(target)\n",
    "            \n",
    "            output = resnet18(input_var)            \n",
    "            loss = criterion(output, target_var)           \n",
    "            optimizer.zero_grad()\n",
    "            loss.backward()\n",
    "            optimizer.step()\n",
    "\n",
    "            output = output.float()\n",
    "            loss = loss.float()\n",
    "            \n",
    "            print(str(epoch)+ '---'+str(i) + '--------' +  str(loss) + '-------' +str(output))"
   ]
  },
  {
   "cell_type": "code",
   "execution_count": null,
   "metadata": {
    "collapsed": true
   },
   "outputs": [],
   "source": [
    "%time arya_train()"
   ]
  },
  {
   "cell_type": "markdown",
   "metadata": {},
   "source": [
    "# Testing and Accuracy Calculation\n",
    "Jorah then asks a question, how is this a detection task?<br/>\n",
    "As everybody wonders, Theon Greyjoy suggests a slding window method to test the above trained trained network on the detection task:<br/>\n",
    "\"We take some windows of varying size and aspect ratios\", he mumbled, \"and slide it through the test image (considering some stride of pixels) from left to right, and top to bottom, detect the class scores for each of the window, and keep only those which are above a certain threshold value!\". \"He is right\", says Samwell, \"I read a similar approach in the paper -Faster RCNN by Ross Girshick in the library, where he uses three diferent scales/sizes and three different aspect ratios, making a total of nine windows per pixel to slide\". You need to write the code and use it in testing code to find the predicted boxes and their classes."
   ]
  },
  {
   "cell_type": "code",
   "execution_count": null,
   "metadata": {
    "collapsed": true
   },
   "outputs": [],
   "source": [
    "def theon_sliding_window():\n",
    "    # Begin\n",
    "    boxes=[]\n",
    "    imres = [[192,192],[192,96],[96,192],[128,128],[128,64],[64,128],[64,64],[64,32],[32,64]]\n",
    "    for i in range(resnet_input):\n",
    "        for j in range(resnet_input):\n",
    "            for window in imres:\n",
    "                boxes.append([i-window[0]/2, j-window[1]/2, i+window[0]/2, j+window[1]/2])\n",
    "    return np.asarray(np.array(boxes))\n"
   ]
  },
  {
   "cell_type": "markdown",
   "metadata": {},
   "source": [
    "\"Wait\", says <b>Jon Snow</b>, \"The predicted boxes may be too many and we can't deal with all of them. So, I myself will go and apply non_maximum_supression to reduce the number of boxes\". You are free to choose the threshold value for non maximum supression, but choose wisely [0,1]."
   ]
  },
  {
   "cell_type": "code",
   "execution_count": null,
   "metadata": {
    "collapsed": true
   },
   "outputs": [],
   "source": [
    "def aegon_targaryen_non_maximum_supression(boxes,threshold = 0.3):\n",
    "            \n",
    "        pick = []\n",
    "\n",
    "        x1 = boxes[:,0]\n",
    "        y1 = boxes[:,1]\n",
    "        x2 = boxes[:,2]\n",
    "        y2 = boxes[:,3]\n",
    "\n",
    "        area = (x2 - x1 + 1) * (y2 - y1 + 1)\n",
    "        idxs = np.argsort(y2)\n",
    "        \n",
    "        while len(idxs) > 0:\n",
    "            \n",
    "            last = len(idxs) - 1\n",
    "            i = idxs[last]\n",
    "            pick.append(i)\n",
    "            suppress = [last]\n",
    "            \n",
    "            for pos in range(0, last):\n",
    "                \n",
    "                j = idxs[pos]\n",
    "               \n",
    "                xx1 = max(x1[i], x1[j])\n",
    "                yy1 = max(y1[i], y1[j])\n",
    "                xx2 = min(x2[i], x2[j])\n",
    "                yy2 = min(y2[i], y2[j])\n",
    "               \n",
    "                w = max(0, xx2 - xx1 + 1)\n",
    "                h = max(0, yy2 - yy1 + 1)\n",
    "\n",
    "                overlap = float(w * h) / area[j]\n",
    "\n",
    "                if overlap > threshold:\n",
    "                    suppress.append(pos)\n",
    "\n",
    "            idxs = np.delete(idxs, suppress)\n",
    "\n",
    "        return boxes[pick]\n",
    "        "
   ]
  },
  {
   "cell_type": "markdown",
   "metadata": {},
   "source": [
    "Daenerys, the queen, then orders her army to test out the trained model on the test dataset."
   ]
  },
  {
   "cell_type": "code",
   "execution_count": null,
   "metadata": {
    "collapsed": true
   },
   "outputs": [],
   "source": [
    "def daenerys_test():\n",
    "    # Write loops for testing the model on the test set\n",
    "    # Also print out the accuracy of the model\n",
    "    total_bbox = 0\n",
    "    total_correct_bbox = 0\n",
    "    sliding_windows = theon_sliding_window()\n",
    "    sliding_windows = aegon_targaryen_non_maximum_supression(sliding_windows)\n",
    "    for i, (input1,bb_list1) in enumerate(test_loader):\n",
    "            print(str(i)+'sagdsf')\n",
    "            img_n = -1\n",
    "            for img_name in input1:\n",
    "                img_n+=1\n",
    "                img = Image.open(img_name)\n",
    "                img = img.resize((resnet_input,resnet_input))\n",
    "                total = len(bb_list[i*batch_size + img_n])\n",
    "                total_bbox += total\n",
    "                count = [0]*total\n",
    "                for window in sliding_windows:\n",
    "                    input_conv = composed_transform(img.crop(window))\n",
    "                    input_var = torch.autograd.Variable(input_conv, volatile = True).cuda()\n",
    "                    input_var = input_var.unsqueeze(0)\n",
    "                    output = resnet18(input_var)\n",
    "                    output = output.float()\n",
    "                    pred = output.max(1)[1].cpu().data.numpy()\n",
    "                    for bbox in bb_list[i*batch_size + 1]:\n",
    "                        ra = Rectangle(bbox[0], bbox[1], bbox[2], bbox[3])\n",
    "                        rb = Rectangle(window[0], window[1], window[2], window[3])\n",
    "                        union = (window[3]-window[1])*(window[2]-window[0]) + (bbox[3]- bbox[1])*(bbox[2]- bbox[0])\n",
    "                        if(area(ra,rb)==None):\n",
    "                            continue\n",
    "                        print(str(pred) + '    '+str(bbox[4])+'        '+str(area(ra,rb)/union))\n",
    "                        if (area(ra, rb) > 0.5*union and pred[0] == bbox[4]):\n",
    "                            count[bb_list[i*batch_size + 1].index(bbox)] = 1\n",
    "                total_correct_bbox += sum(count)\n",
    "    accuracy = total_correct_bbox / total_bbox *100\n",
    "    print('Acuuracy: '+str(accuracy))\n",
    "    "
   ]
  },
  {
   "cell_type": "code",
   "execution_count": null,
   "metadata": {
    "scrolled": true
   },
   "outputs": [],
   "source": [
    "%time daenerys_test()"
   ]
  },
  {
   "cell_type": "markdown",
   "metadata": {},
   "source": [
    "# Final Showdown\n",
    "After covering all the steps and passing the accuracy value to the talking crystal, they all pass through to the land of the living, with a wounded Jon Snow armed with the Dragon-axe. After a fierce battle, Jon Snow manages to go face to face with the Night king. Surrounded by battling men and falling bodies, they engage in a ferocious battle, a battle of spear and axe. After a raging fight, Jon manages to sink the axe into the Night king's heart, but not before he gets wounded by the spear. As dead men fall to bones, Daenerys and others rush to his aid, but it is too late. Everyone is in tears as they look towards the man of honour, Jon Snow, lying in Daenerys's arms when he says his last words: \"The night has ended. Winter is finally over!\""
   ]
  },
  {
   "cell_type": "code",
   "execution_count": null,
   "metadata": {},
   "outputs": [],
   "source": [
    "list = [10]\n",
    "list==10"
   ]
  },
  {
   "cell_type": "code",
   "execution_count": null,
   "metadata": {
    "collapsed": true
   },
   "outputs": [],
   "source": []
  }
 ],
 "metadata": {
  "kernelspec": {
   "display_name": "Python 2",
   "language": "python",
   "name": "python2"
  },
  "language_info": {
   "codemirror_mode": {
    "name": "ipython",
    "version": 3
   },
   "file_extension": ".py",
   "mimetype": "text/x-python",
   "name": "python",
   "nbconvert_exporter": "python",
   "pygments_lexer": "ipython3",
   "version": "3.6.1"
  }
 },
 "nbformat": 4,
 "nbformat_minor": 2
}
