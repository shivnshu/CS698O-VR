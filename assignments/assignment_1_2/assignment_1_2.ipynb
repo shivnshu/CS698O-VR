{
 "cells": [
  {
   "cell_type": "markdown",
   "metadata": {},
   "source": [
    "## Creating Custom Networks\n",
    "In this notebook you have to create a custom network whose architecture has been given, and use the dataset you created earlier to train and test it."
   ]
  },
  {
   "cell_type": "markdown",
   "metadata": {},
   "source": [
    "TODO:\n",
    "Change root dir and CIFAR dir\n",
    "\n"
   ]
  },
  {
   "cell_type": "code",
   "execution_count": 11,
   "metadata": {
    "collapsed": true
   },
   "outputs": [],
   "source": [
    "# Import Statements\n",
    "#\n",
    "# Several of the imports you will need have been added but you will need to provide the\n",
    "# rest yourself; you should be able to figure out most of the imports as you go through\n",
    "# the notebook since without proper imports your code will fail to run\n",
    "#\n",
    "# All import statements go in this block\n",
    "\n",
    "from __future__ import division, print_function, unicode_literals\n",
    "import numpy as np\n",
    "import torch\n",
    "import torch.nn as nn\n",
    "import torch.utils.data\n",
    "import torchvision.transforms as transforms\n",
    "import os\n",
    "import torchvision\n",
    "from PIL import Image\n",
    "\n",
    "%matplotlib inline\n",
    "import matplotlib.pyplot as plt\n",
    "import matplotlib.image as mpimg"
   ]
  },
  {
   "cell_type": "markdown",
   "metadata": {},
   "source": [
    "All hyper parameters go in the next block"
   ]
  },
  {
   "cell_type": "code",
   "execution_count": 12,
   "metadata": {
    "collapsed": true
   },
   "outputs": [],
   "source": [
    "batch_size = 100\n",
    "num_epochs = 5\n",
    "learning_rate = 0.01"
   ]
  },
  {
   "cell_type": "markdown",
   "metadata": {},
   "source": [
    "### Create Custom Dataset and Loader\n",
    "This is the same as part 1. Simply use the same code to create the dataset."
   ]
  },
  {
   "cell_type": "code",
   "execution_count": 13,
   "metadata": {
    "collapsed": true
   },
   "outputs": [],
   "source": [
    "class CDATA(torch.utils.data.Dataset): # Extend PyTorch's Dataset class\n",
    "    def __init__(self, root_dir, train, transform=None):\n",
    "        # root_dir  - the root directory of the dataset\n",
    "        # train     - a boolean parameter representing whether to return the training set or the test set\n",
    "        # transform - the transforms to be applied on the images before returning them\n",
    "        #\n",
    "        # In this function store the parameters in instance variables and make a mapping\n",
    "        # from images to labels and keep it as an instance variable. Make sure to check which\n",
    "        # dataset is required; train or test; and create the mapping accordingly.        \n",
    "        \n",
    "        self.root_dir = root_dir\n",
    "        self.train = train\n",
    "        self.transform = transform\n",
    "        if train == True:\n",
    "            dir1 = '/train/'\n",
    "        else:\n",
    "            dir1 = '/test/'\n",
    "        \n",
    "        dir_names = os.listdir(root_dir + dir1)\n",
    "        img_names=[]\n",
    "        labels = []\n",
    "        count = 0\n",
    "        for c in dir_names:\n",
    "            names = os.listdir(root_dir + dir1 + c)\n",
    "            N = len(names)\n",
    "            for n in range(N):\n",
    "                img_names.append(str(root_dir + dir1 + c + '/' + names[n]))\n",
    "                labels += [count]\n",
    "            count+=1\n",
    "               \n",
    "        \n",
    "        self.img_names = img_names\n",
    "        self.labels = labels        \n",
    "        \n",
    "    def __len__(self):\n",
    "        # return the size of the dataset (total number of images) as an integer\n",
    "        # this should be rather easy if you created a mapping in __init__\n",
    "        \n",
    "        return len(self.img_names)\n",
    "        \n",
    "    def __getitem__(self, idx):\n",
    "        # idx - the index of the sample requested\n",
    "        # Open the image correspoding to idx, apply transforms on it and return a tuple (image, label)\n",
    "        # where label is an integer from 0-9 (since notMNIST has 10 classes)\n",
    "        #temp = mpimg.imread(self.img_names[idx])\n",
    "        \n",
    "        img_pil = Image.open(self.img_names[idx]).convert('RGB')\n",
    "        return self.transform(img_pil), self.labels[idx]"
   ]
  },
  {
   "cell_type": "code",
   "execution_count": 14,
   "metadata": {
    "collapsed": true
   },
   "outputs": [],
   "source": [
    "composed_transform = transforms.Compose([transforms.Scale((32,32)),transforms.ToTensor()])\n",
    "train_dataset = CDATA(root_dir='../notMNIST_small', train=True, transform=composed_transform) # Supply proper root_dir\n",
    "test_dataset = CDATA(root_dir='../notMNIST_small', train=False, transform=composed_transform) # Supply proper root_dir\n",
    "\n",
    "train_loader = torch.utils.data.DataLoader(dataset=train_dataset, batch_size=batch_size, shuffle=True)\n",
    "test_loader = torch.utils.data.DataLoader(dataset=test_dataset, batch_size=batch_size, shuffle=False)"
   ]
  },
  {
   "cell_type": "markdown",
   "metadata": {},
   "source": [
    "### Creating a Custom Network\n",
    "It's time to create a new custom network. This network is based on Resnet (indeed it is a resnet since it uses skip connections). The architecture of the network is provided in the diagram. It specifies the layer names, layer types as well as their parameters.\n",
    "<img src=\"architecture.png\" width=100>\n",
    "[Full size image](architecture.html)"
   ]
  },
  {
   "cell_type": "code",
   "execution_count": 15,
   "metadata": {
    "collapsed": true
   },
   "outputs": [],
   "source": [
    "class CustomResnet(nn.Module): # Extend PyTorch's Module class\n",
    "    def __init__(self, num_classes = 10):\n",
    "        super(CustomResnet, self).__init__() # Must call super __init__()\n",
    "        \n",
    "        # Define the layers of the network here\n",
    "        # There should be 17 total layers as evident from the diagram\n",
    "        # The parameters and names for the layers are provided in the diagram\n",
    "        # The variable names have to be the same as the ones in the diagram\n",
    "        # Otherwise, the weights will not load\n",
    "        \n",
    "        self.conv1 = torch.nn.Conv2d(3, 64, 7, stride=2, padding=3, bias=True)\n",
    "        self.bn1 = torch.nn.BatchNorm1d(64)\n",
    "        self.relu =torch.nn.ReLU(True)\n",
    "        self.maxpool= torch.nn.MaxPool2d(3, stride=2, padding=1)\n",
    "        \n",
    "        self.lyr1conv1 = torch.nn.Conv2d(64, 64, 3, stride=1, padding=1, bias=True)\n",
    "        self.lyr1bn1 = torch.nn.BatchNorm1d(64)\n",
    "        self.lyr1relu1 =torch.nn.ReLU(inplace=True)\n",
    "        \n",
    "        self.lyr1conv2 = torch.nn.Conv2d(64, 64, 3, stride=1, padding=1, bias=True)\n",
    "        self.lyr1bn2 = torch.nn.BatchNorm1d(64)\n",
    "        self.lyr1relu2 =torch.nn.ReLU(inplace=True)\n",
    "        \n",
    "        self.lyr2conv1 = torch.nn.Conv2d(64, 64, 3, stride=1, padding=1, bias=True)\n",
    "        self.lyr2bn1 = torch.nn.BatchNorm1d(64)\n",
    "        self.lyr2relu1 =torch.nn.ReLU(inplace=True)\n",
    "        \n",
    "        self.lyr2conv2 = torch.nn.Conv2d(64, 64, 3, stride=1, padding=1, bias=True)\n",
    "        self.lyr2bn2 = torch.nn.BatchNorm1d(64)\n",
    "        self.lyr2relu2 =torch.nn.ReLU(inplace=True)\n",
    "        \n",
    "        self.fc = torch.nn.Linear(4096, num_classes)\n",
    "        \n",
    "       \n",
    "        \n",
    "    def forward(self, x):\n",
    "        # Here you have to define the forward pass\n",
    "        # Make sure you take care of the skip connections\n",
    "        \n",
    "        x = self.conv1(x)\n",
    "        x = self.bn1(x)\n",
    "        x = self.relu(x)\n",
    "        x1 = self.maxpool(x)\n",
    "\n",
    "        x = self.lyr1conv1(x1)\n",
    "        x = self.lyr1bn1(x)\n",
    "        x = self.lyr1relu1(x)\n",
    "        \n",
    "        x = self.lyr1conv2(x)\n",
    "        x = self.lyr1bn2(x)\n",
    "        x1 = self.lyr1relu2(x+x1)\n",
    "        \n",
    "        x = self.lyr2conv1(x1)\n",
    "        x = self.lyr2bn1(x)\n",
    "        x = self.lyr2relu1(x)\n",
    "        \n",
    "        x = self.lyr2conv2(x)\n",
    "        x = self.lyr2bn2(x)\n",
    "        x = self.lyr2relu2(x+x1)\n",
    "        \n",
    "        x = x.view(x.size(0),-1)\n",
    "        x = self.fc(x)\n",
    "        return x\n",
    "        "
   ]
  },
  {
   "cell_type": "markdown",
   "metadata": {},
   "source": [
    "#### Finetune on pre-trained CIFAR-100 weights\n",
    "We shall now finetune our model using pretrained CIFAR-100 weights."
   ]
  },
  {
   "cell_type": "code",
   "execution_count": 16,
   "metadata": {
    "collapsed": true
   },
   "outputs": [],
   "source": [
    "model = CustomResnet(num_classes = 100) # 100 classes since CIFAR-100 has 100 classes\n",
    "\n",
    "# Load CIFAR-100 weights. (Download them from assignment page)\n",
    "# If network was properly implemented, weights should load without any problems\n",
    "model.load_state_dict(torch.load('../CIFAR-100_weights')) # Supply the path to the weight file"
   ]
  },
  {
   "cell_type": "markdown",
   "metadata": {},
   "source": [
    "##### Optional\n",
    "As a sanity check you may load the CIFAR-100 test dataset and test the above model. You should get an accuracy of ~41%. This part is optional and is meant for your convenience."
   ]
  },
  {
   "cell_type": "code",
   "execution_count": 17,
   "metadata": {
    "collapsed": true
   },
   "outputs": [],
   "source": [
    "# Block for optionally running the model on CIFAR-100 test set"
   ]
  },
  {
   "cell_type": "markdown",
   "metadata": {},
   "source": [
    "Let's finetune the model."
   ]
  },
  {
   "cell_type": "code",
   "execution_count": 18,
   "metadata": {
    "scrolled": true
   },
   "outputs": [
    {
     "data": {
      "image/png": "[encoded data removed]",
      "text/plain": [
       "<matplotlib.figure.Figure at 0x7f7aca641240>"
      ]
     },
     "metadata": {},
     "output_type": "display_data"
    },
    {
     "name": "stdout",
     "output_type": "stream",
     "text": [
      "CPU times: user 24.2 s, sys: 908 ms, total: 25.1 s\n",
      "Wall time: 25.6 s\n"
     ]
    }
   ],
   "source": [
    "for param in model.parameters():\n",
    "    param.requires_grad = False\n",
    "\n",
    "# Change last layer to output 10 classes since our dataset has 10 classes\n",
    "model.fc = nn.Linear(model.fc.in_features,10)# Complete this statement. It is similar to the resnet18 case\n",
    "model.cuda()\n",
    "\n",
    "# Loss function and optimizers\n",
    "criterion = nn.CrossEntropyLoss().cuda()\n",
    "optimizer = torch.optim.Adam(model.fc.parameters(), lr = learning_rate) \n",
    "\n",
    "\n",
    "def train():\n",
    "    # Code for training the model\n",
    "    # Make sure to output a matplotlib graph of training losses  \n",
    "    \n",
    "    # loss_epoch gives the loss calculated by the model at the end of each epoch\n",
    "    loss_epoch = np.array([])    \n",
    "    for epoch in range(num_epochs): \n",
    "        model.train()        \n",
    "        for i, (input1,target) in enumerate(train_loader):\n",
    "            \n",
    "            input_var = torch.autograd.Variable(input1).cuda()            \n",
    "            target = target.cuda(async = True)\n",
    "            target_var = torch.autograd.Variable(target)\n",
    "            \n",
    "            output = model(input_var)            \n",
    "            loss = criterion(output, target_var)           \n",
    "            optimizer.zero_grad()\n",
    "            loss.backward()\n",
    "            optimizer.step()\n",
    "\n",
    "            output = output.float()\n",
    "            loss = loss.float()\n",
    "            \n",
    "        loss_epoch = np.concatenate((loss_epoch,loss.cpu().data.numpy()))\n",
    "    \n",
    "    plt.plot(loss_epoch)\n",
    "    plt.show()\n",
    "    \n",
    "%time train()"
   ]
  },
  {
   "cell_type": "markdown",
   "metadata": {},
   "source": [
    "Test the finetuned model"
   ]
  },
  {
   "cell_type": "code",
   "execution_count": 19,
   "metadata": {},
   "outputs": [
    {
     "name": "stdout",
     "output_type": "stream",
     "text": [
      "Accuracy: 86.577540107\n",
      "CPU times: user 732 ms, sys: 76 ms, total: 808 ms\n",
      "Wall time: 807 ms\n"
     ]
    }
   ],
   "source": [
    "def test():\n",
    "    # Write loops for testing the model on the test set\n",
    "    # You should also print out the accuracy of the model\n",
    "    correct = 0\n",
    "    total = 0\n",
    "    \n",
    "    for i, (input1,target) in enumerate(test_loader):\n",
    "            \n",
    "            input_var = torch.autograd.Variable(input1,volatile = True).cuda()\n",
    "            \n",
    "            target = target.cuda(async = True)\n",
    "            target_var = torch.autograd.Variable(target)\n",
    "                        \n",
    "            output = model(input_var)\n",
    "            output = output.float()\n",
    "            \n",
    "            # t1 gives the array of predicted classes and t2 is the array of original class \n",
    "            t1 = output.max(1)[1].cpu().data.numpy()\n",
    "            t2 = target_var.cpu().data.numpy()\n",
    "            \n",
    "            # Updating both the total and correct by adding the total no. of images in this batch as well as the\n",
    "            # correctly classified images in this class\n",
    "            correct += sum(t1==t2)\n",
    "            total += len(t2)\n",
    "            \n",
    "    print('Accuracy: '+ str(correct*100.0/total))\n",
    "%time test()"
   ]
  },
  {
   "cell_type": "markdown",
   "metadata": {},
   "source": [
    "#### Training from scratch\n",
    "Now we shall try training the model from scratch and observe the differences."
   ]
  },
  {
   "cell_type": "code",
   "execution_count": 20,
   "metadata": {},
   "outputs": [
    {
     "data": {
      "image/png": "[encoded data removed]",
      "text/plain": [
       "<matplotlib.figure.Figure at 0x7f7aca934978>"
      ]
     },
     "metadata": {},
     "output_type": "display_data"
    },
    {
     "name": "stdout",
     "output_type": "stream",
     "text": [
      "CPU times: user 34.4 s, sys: 3.48 s, total: 37.9 s\n",
      "Wall time: 38.3 s\n",
      "Accuracy: 7.05882352941\n",
      "CPU times: user 704 ms, sys: 76 ms, total: 780 ms\n",
      "Wall time: 787 ms\n"
     ]
    }
   ],
   "source": [
    "# Reinstantiate the model and optimizer\n",
    "model = CustomResnet(num_classes = 10)\n",
    "model.cuda()\n",
    "\n",
    "for param in model.parameters():\n",
    "    param.requires_grad = True\n",
    "    \n",
    "optimizer_resnet18 = torch.optim.Adam(model.parameters(), lr = learning_rate) \n",
    "criterion = nn.CrossEntropyLoss().cuda()\n",
    "\n",
    "# Train\n",
    "%time train()\n",
    "\n",
    "# Test\n",
    "%time test()"
   ]
  },
  {
   "cell_type": "markdown",
   "metadata": {},
   "source": [
    "This is the end of Assignment 1"
   ]
  }
 ],
 "metadata": {
  "kernelspec": {
   "display_name": "Python 2",
   "language": "python",
   "name": "python2"
  },
  "language_info": {
   "codemirror_mode": {
    "name": "ipython",
    "version": 3
   },
   "file_extension": ".py",
   "mimetype": "text/x-python",
   "name": "python",
   "nbconvert_exporter": "python",
   "pygments_lexer": "ipython3",
   "version": "3.6.1"
  }
 },
 "nbformat": 4,
 "nbformat_minor": 2
}
